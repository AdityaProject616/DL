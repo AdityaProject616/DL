{
 "cells": [
  {
   "cell_type": "code",
   "execution_count": 2,
   "id": "053a4c6d",
   "metadata": {},
   "outputs": [
    {
     "data": {
      "text/plain": [
       "'/home/aditya/LP IV/A5'"
      ]
     },
     "execution_count": 2,
     "metadata": {},
     "output_type": "execute_result"
    }
   ],
   "source": [
    "pwd"
   ]
  },
  {
   "cell_type": "code",
   "execution_count": 30,
   "id": "2fa22fe2",
   "metadata": {},
   "outputs": [
    {
     "data": {
      "text/plain": [
       "<_io.TextIOWrapper name='/home/aditya/LP IV/untitled.txt' mode='r' encoding='UTF-8'>"
      ]
     },
     "execution_count": 30,
     "metadata": {},
     "output_type": "execute_result"
    }
   ],
   "source": [
    "data = open(r\"/home/aditya/LP IV/untitled.txt\")\n",
    "data"
   ]
  },
  {
   "cell_type": "code",
   "execution_count": 31,
   "id": "4d8fac32",
   "metadata": {},
   "outputs": [
    {
     "data": {
      "text/plain": [
       "[\"The speed of transmission is an important point of difference between the two viruses. Influenza has a shorter median incubation period (the time from infection to appearance of symptoms) and a shorter serial interval (the time between successive cases) than COVID-19 virus. The serial interval for COVID-19 virus is estimated to be 5-6 days, while for influenza virus, the serial interval is 3 days. This means that influenza can spread faster than COVID-19. \\\\n',\\n\",\n",
       " \" 'Further, transmission in the first 3-5 days of illness, or potentially pre-symptomatic transmission â€“transmission of the virus before the appearance of symptoms â€“ is a major driver of transmission for influenza. In contrast, while we are learning that there are people who can shed COVID-19 virus 24-48 hours prior to symptom onset, at present, this does not appear to be a major driver of transmission. \\\\n',\\n\",\n",
       " \" 'The reproductive number â€“ the number of secondary infections generated from one infected individual â€“ is understood to be between 2 and 2.5 for COVID-19 virus, higher than for influenza. However, estimates for both COVID-19 and influenza viruses are very context and time-specific, making direct comparisons more difficult.  \"]"
      ]
     },
     "execution_count": 31,
     "metadata": {},
     "output_type": "execute_result"
    }
   ],
   "source": [
    "corona_data = [text for text in data if text.count(' ') >= 2]\n",
    "corona_data"
   ]
  },
  {
   "cell_type": "code",
   "execution_count": 32,
   "id": "0490a2dc",
   "metadata": {},
   "outputs": [],
   "source": [
    "import numpy as np\n",
    "import keras.backend as K #imp\n",
    "from keras.models import Sequential\n",
    "from keras.layers import Dense, Embedding, Lambda\n",
    "from keras.utils import np_utils\n",
    "from keras.utils import pad_sequences\n",
    "from keras.preprocessing.text import Tokenizer, text_to_word_sequence\n",
    "import gensim"
   ]
  },
  {
   "cell_type": "code",
   "execution_count": 33,
   "id": "87689998",
   "metadata": {},
   "outputs": [
    {
     "data": {
      "text/plain": [
       "[[1,\n",
       "  39,\n",
       "  2,\n",
       "  8,\n",
       "  9,\n",
       "  40,\n",
       "  41,\n",
       "  42,\n",
       "  2,\n",
       "  43,\n",
       "  13,\n",
       "  1,\n",
       "  44,\n",
       "  23,\n",
       "  3,\n",
       "  45,\n",
       "  11,\n",
       "  24,\n",
       "  46,\n",
       "  47,\n",
       "  48,\n",
       "  1,\n",
       "  14,\n",
       "  25,\n",
       "  49,\n",
       "  10,\n",
       "  26,\n",
       "  2,\n",
       "  27,\n",
       "  12,\n",
       "  11,\n",
       "  24,\n",
       "  15,\n",
       "  16,\n",
       "  1,\n",
       "  14,\n",
       "  13,\n",
       "  50,\n",
       "  51,\n",
       "  17,\n",
       "  4,\n",
       "  5,\n",
       "  6,\n",
       "  1,\n",
       "  15,\n",
       "  16,\n",
       "  7,\n",
       "  4,\n",
       "  5,\n",
       "  6,\n",
       "  9,\n",
       "  52,\n",
       "  10,\n",
       "  18,\n",
       "  19,\n",
       "  53,\n",
       "  20,\n",
       "  28,\n",
       "  7,\n",
       "  3,\n",
       "  6,\n",
       "  1,\n",
       "  15,\n",
       "  16,\n",
       "  9,\n",
       "  29,\n",
       "  20,\n",
       "  30,\n",
       "  54,\n",
       "  31,\n",
       "  3,\n",
       "  32,\n",
       "  55,\n",
       "  56,\n",
       "  17,\n",
       "  4,\n",
       "  5,\n",
       "  33],\n",
       " [57,\n",
       "  8,\n",
       "  34,\n",
       "  1,\n",
       "  58,\n",
       "  29,\n",
       "  19,\n",
       "  20,\n",
       "  2,\n",
       "  59,\n",
       "  60,\n",
       "  61,\n",
       "  62,\n",
       "  63,\n",
       "  8,\n",
       "  64,\n",
       "  2,\n",
       "  1,\n",
       "  6,\n",
       "  65,\n",
       "  1,\n",
       "  26,\n",
       "  2,\n",
       "  27,\n",
       "  21,\n",
       "  9,\n",
       "  11,\n",
       "  35,\n",
       "  36,\n",
       "  2,\n",
       "  8,\n",
       "  7,\n",
       "  3,\n",
       "  34,\n",
       "  66,\n",
       "  28,\n",
       "  67,\n",
       "  22,\n",
       "  68,\n",
       "  31,\n",
       "  69,\n",
       "  22,\n",
       "  70,\n",
       "  71,\n",
       "  32,\n",
       "  72,\n",
       "  4,\n",
       "  5,\n",
       "  6,\n",
       "  73,\n",
       "  74,\n",
       "  75,\n",
       "  76,\n",
       "  10,\n",
       "  77,\n",
       "  78,\n",
       "  79,\n",
       "  80,\n",
       "  30,\n",
       "  81,\n",
       "  82,\n",
       "  83,\n",
       "  10,\n",
       "  18,\n",
       "  11,\n",
       "  35,\n",
       "  36,\n",
       "  2,\n",
       "  8,\n",
       "  33],\n",
       " [84,\n",
       "  85,\n",
       "  37,\n",
       "  21,\n",
       "  1,\n",
       "  37,\n",
       "  2,\n",
       "  86,\n",
       "  87,\n",
       "  88,\n",
       "  25,\n",
       "  89,\n",
       "  90,\n",
       "  91,\n",
       "  21,\n",
       "  9,\n",
       "  92,\n",
       "  10,\n",
       "  18,\n",
       "  13,\n",
       "  38,\n",
       "  12,\n",
       "  38,\n",
       "  19,\n",
       "  7,\n",
       "  4,\n",
       "  5,\n",
       "  6,\n",
       "  93,\n",
       "  17,\n",
       "  7,\n",
       "  3,\n",
       "  94,\n",
       "  95,\n",
       "  7,\n",
       "  96,\n",
       "  4,\n",
       "  5,\n",
       "  12,\n",
       "  3,\n",
       "  23,\n",
       "  22,\n",
       "  97,\n",
       "  98,\n",
       "  12,\n",
       "  14,\n",
       "  99,\n",
       "  100,\n",
       "  101,\n",
       "  102,\n",
       "  103,\n",
       "  104]]"
      ]
     },
     "execution_count": 33,
     "metadata": {},
     "output_type": "execute_result"
    }
   ],
   "source": [
    "vectorize = Tokenizer()\n",
    "vectorize.fit_on_texts(corona_data)\n",
    "corona_data = vectorize.texts_to_sequences(corona_data)\n",
    "\n",
    "total_vocab = sum(len(s) for s in corona_data)\n",
    "word_count = len(vectorize.index_word)+1\n",
    "corona_data"
   ]
  },
  {
   "cell_type": "code",
   "execution_count": 34,
   "id": "301b9b75",
   "metadata": {},
   "outputs": [
    {
     "name": "stdout",
     "output_type": "stream",
     "text": [
      "200\n",
      "105\n"
     ]
    }
   ],
   "source": [
    "print(total_vocab)\n",
    "print(word_count)"
   ]
  },
  {
   "cell_type": "code",
   "execution_count": 35,
   "id": "15b54822",
   "metadata": {},
   "outputs": [],
   "source": [
    "window_size = 2"
   ]
  },
  {
   "cell_type": "code",
   "execution_count": 39,
   "id": "d2095b39",
   "metadata": {},
   "outputs": [],
   "source": [
    "# Defining utility to generate context word pairs\n",
    "def cbow_model(data, window_size, total_vocab):\n",
    "    total_length = window_size*2\n",
    "    for text in data:\n",
    "        text_len = len(text)\n",
    "#         print(\"zero\",text)\n",
    "        for idx, word in enumerate(text):\n",
    "#             print(\"first\",idx,word)\n",
    "            context_word = []\n",
    "            target   = []            \n",
    "            begin = idx - window_size\n",
    "            end = idx + window_size + 1\n",
    "            context_word.append([\n",
    "                text[i] \n",
    "                for i in range(begin, end) \n",
    "                if 0 <= i < text_len \n",
    "                and i != idx\n",
    "            ])\n",
    "            target.append(word)\n",
    "#             print(\"second\",context_word,target)\n",
    "            contextual = pad_sequences(\n",
    "                context_word, \n",
    "                maxlen=total_length\n",
    "            )\n",
    "            final_target = np_utils.to_categorical(\n",
    "                target, \n",
    "                total_vocab\n",
    "            )\n",
    "#             print(\"third\",contextual,final_target)\n",
    "            yield(contextual, final_target)            "
   ]
  },
  {
   "cell_type": "code",
   "execution_count": 40,
   "id": "c4b54b16",
   "metadata": {},
   "outputs": [],
   "source": [
    "# Defining the model architecture\n",
    "model = Sequential()\n",
    "model.add(\n",
    "    Embedding(\n",
    "        input_dim=total_vocab, \n",
    "        output_dim=100, \n",
    "        input_length=window_size*2\n",
    "    )\n",
    ")\n",
    "model.add(\n",
    "    Lambda(\n",
    "        lambda x: K.mean(x, axis=1), \n",
    "        output_shape=(100,)\n",
    "    )\n",
    ")\n",
    "model.add(\n",
    "    Dense(\n",
    "        total_vocab, \n",
    "        activation='softmax'\n",
    "    )\n",
    ")"
   ]
  },
  {
   "cell_type": "code",
   "execution_count": 41,
   "id": "b4dc047d",
   "metadata": {},
   "outputs": [
    {
     "name": "stdout",
     "output_type": "stream",
     "text": [
      "Model: \"sequential_3\"\n",
      "_________________________________________________________________\n",
      " Layer (type)                Output Shape              Param #   \n",
      "=================================================================\n",
      " embedding_3 (Embedding)     (None, 4, 100)            20000     \n",
      "                                                                 \n",
      " lambda_3 (Lambda)           (None, 100)               0         \n",
      "                                                                 \n",
      " dense_3 (Dense)             (None, 200)               20200     \n",
      "                                                                 \n",
      "=================================================================\n",
      "Total params: 40,200\n",
      "Trainable params: 40,200\n",
      "Non-trainable params: 0\n",
      "_________________________________________________________________\n"
     ]
    }
   ],
   "source": [
    "model.summary()\n"
   ]
  },
  {
   "cell_type": "code",
   "execution_count": 42,
   "id": "0b9e3e4a",
   "metadata": {},
   "outputs": [],
   "source": [
    "model.compile(\n",
    "    loss='categorical_crossentropy', \n",
    "    optimizer='adam'\n",
    ")"
   ]
  },
  {
   "cell_type": "code",
   "execution_count": 43,
   "id": "1be36f11",
   "metadata": {},
   "outputs": [
    {
     "name": "stdout",
     "output_type": "stream",
     "text": [
      "Epoch  0 \t:  1054.0115232467651\n",
      "Epoch  1 \t:  1002.6175694465637\n",
      "Epoch  2 \t:  912.5089628696442\n",
      "Epoch  3 \t:  836.2285907268524\n",
      "Epoch  4 \t:  782.3472242355347\n",
      "Epoch  5 \t:  730.7972129583359\n",
      "Epoch  6 \t:  676.9568408727646\n",
      "Epoch  7 \t:  621.16617000103\n",
      "Epoch  8 \t:  564.8284534215927\n",
      "Epoch  9 \t:  509.7091538310051\n"
     ]
    }
   ],
   "source": [
    "for i in range(10):\n",
    "    cost = 0\n",
    "    for x, y in cbow_model(corona_data, window_size, total_vocab):\n",
    "#         print(x,y)\n",
    "        cost += model.train_on_batch(x, y)\n",
    "    print(\"Epoch \", i,\"\\t: \", cost)"
   ]
  },
  {
   "cell_type": "code",
   "execution_count": 46,
   "id": "67f5ff0c",
   "metadata": {},
   "outputs": [
    {
     "data": {
      "text/plain": [
       "8"
      ]
     },
     "execution_count": 46,
     "metadata": {},
     "output_type": "execute_result"
    }
   ],
   "source": [
    "dimensions = 100\n",
    "vect_file = open('./vectors.txt','w')\n",
    "vect_file.write('{} {}\\n'.format(102, dimensions))\n"
   ]
  },
  {
   "cell_type": "code",
   "execution_count": 47,
   "id": "5fe0d369",
   "metadata": {},
   "outputs": [],
   "source": [
    "weights = model.get_weights()[0]\n",
    "for text, i in vectorize.word_index.items():\n",
    "    final_vec = ' '.join(map(str, list(weights[i, :])))\n",
    "    vect_file.write('{} {}\\n'.format(text, final_vec))\n",
    "vect_file.close()"
   ]
  },
  {
   "cell_type": "code",
   "execution_count": 48,
   "id": "abdac1c1",
   "metadata": {},
   "outputs": [],
   "source": [
    "cbow_output = gensim.models.KeyedVectors.load_word2vec_format(\n",
    "    'vectors.txt', \n",
    "    binary=False\n",
    ")"
   ]
  },
  {
   "cell_type": "code",
   "execution_count": 49,
   "id": "0f824b2c",
   "metadata": {},
   "outputs": [
    {
     "data": {
      "text/plain": [
       "[('â€“transmission', 0.8413423299789429),\n",
       " ('difference', 0.8297915458679199),\n",
       " ('two', 0.7281671166419983),\n",
       " (\"n'\", 0.7226202487945557),\n",
       " ('driver', 0.7114925384521484),\n",
       " ('of', 0.6631213426589966),\n",
       " ('serial', 0.6516485810279846),\n",
       " ('before', 0.6498878598213196),\n",
       " ('number', 0.6427524089813232),\n",
       " ('appearance', 0.6317931413650513)]"
      ]
     },
     "execution_count": 49,
     "metadata": {},
     "output_type": "execute_result"
    }
   ],
   "source": [
    "cbow_output.most_similar(positive=['speed'])\n"
   ]
  },
  {
   "cell_type": "code",
   "execution_count": null,
   "id": "418ed122",
   "metadata": {},
   "outputs": [],
   "source": []
  }
 ],
 "metadata": {
  "kernelspec": {
   "display_name": "Python 3 (ipykernel)",
   "language": "python",
   "name": "python3"
  },
  "language_info": {
   "codemirror_mode": {
    "name": "ipython",
    "version": 3
   },
   "file_extension": ".py",
   "mimetype": "text/x-python",
   "name": "python",
   "nbconvert_exporter": "python",
   "pygments_lexer": "ipython3",
   "version": "3.8.13"
  }
 },
 "nbformat": 4,
 "nbformat_minor": 5
}
